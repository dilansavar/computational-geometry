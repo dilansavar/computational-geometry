{
 "cells": [
  {
   "cell_type": "code",
   "execution_count": 27,
   "metadata": {
    "collapsed": true
   },
   "outputs": [],
   "source": [
    "def my_product(a,b):\n",
    "    return a[0]*b[0]+a[1]*b[1]+a[2]*b[2]\n",
    "\n",
    "def my_length_function(a):\n",
    "    return my_product(a,a)**0.5\n",
    "def plane_point(plane,point):\n",
    "    #draw a plane draw two point get distance\n",
    "    plane_normal=[plane[0],plane[1],plane[2]]\n",
    "    d=my_product(plane_normal,point)/my_length_function(plane_normal)\n",
    "   \n",
    "    t=-plane[3]-(my_product(plane_normal,point))\n",
    "    t=t/my_product(plane_normal,plane_normal)\n",
    "    p_0=[0,0,0]\n",
    "    p_0[0]=point[0]+t*plane[0]\n",
    "    p_0[1]=point[1]+t*plane[1]\n",
    "    p_0[2]=point[2]+t*plane[2]\n",
    "    return d,t,p_0\n",
    "    #p_0=...\n",
    "    #plane,point,p_0\n",
    "    "
   ]
  },
  {
   "cell_type": "code",
   "execution_count": 28,
   "metadata": {
    "collapsed": false
   },
   "outputs": [
    {
     "data": {
      "text/plain": [
       "(10.155927192672127,\n",
       " -2.2857142857142856,\n",
       " [1.7142857142857144, -2.571428571428571, 3.1428571428571432])"
      ]
     },
     "execution_count": 28,
     "metadata": {},
     "output_type": "execute_result"
    }
   ],
   "source": [
    "plane_1=[1,2,3,-6]\n",
    "point_1=[4,2,10]\n",
    "plane_point(plane_1,point_1)"
   ]
  },
  {
   "cell_type": "code",
   "execution_count": 29,
   "metadata": {
    "collapsed": false
   },
   "outputs": [
    {
     "data": {
      "text/plain": [
       "(32, 3.7416573867739413, 8.774964387392123)"
      ]
     },
     "execution_count": 29,
     "metadata": {},
     "output_type": "execute_result"
    }
   ],
   "source": [
    "a=[1,2,3]\n",
    "b=[4,5,6]\n",
    "my_product(a,b),my_length_function(a),my_length_function(b)"
   ]
  },
  {
   "cell_type": "code",
   "execution_count": null,
   "metadata": {
    "collapsed": true
   },
   "outputs": [],
   "source": []
  }
 ],
 "metadata": {
  "anaconda-cloud": {},
  "kernelspec": {
   "display_name": "Python [default]",
   "language": "python",
   "name": "python3"
  },
  "language_info": {
   "codemirror_mode": {
    "name": "ipython",
    "version": 3
   },
   "file_extension": ".py",
   "mimetype": "text/x-python",
   "name": "python",
   "nbconvert_exporter": "python",
   "pygments_lexer": "ipython3",
   "version": "3.5.2"
  }
 },
 "nbformat": 4,
 "nbformat_minor": 1
}
